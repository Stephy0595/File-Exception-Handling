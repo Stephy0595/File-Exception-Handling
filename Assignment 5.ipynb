{
 "cells": [
  {
   "cell_type": "code",
   "execution_count": 1,
   "id": "6ec8831a-ee3f-4ba1-9f2a-45b6ed8522db",
   "metadata": {},
   "outputs": [
    {
     "name": "stdout",
     "output_type": "stream",
     "text": [
      "hai good evening\n"
     ]
    }
   ],
   "source": [
    "\n",
    "#1. Write a Python program to read a file and display its contents.\n",
    "\n",
    "def read_file(filename):\n",
    "    try:\n",
    "        with open(filename, 'r', encoding='utf-8') as file:  # Using utf-8 to avoid encoding issues\n",
    "            content = file.read()\n",
    "            print(content)\n",
    "    except FileNotFoundError:\n",
    "        print(f\"Error: The file '{filename}' was not found.\")\n",
    "\n",
    "# Example usage\n",
    "file_path = r\"C:\\Users\\aksha\\Desktop\\Hello\\hai good evening.txt\"\n",
    "read_file(file_path)\n"
   ]
  },
  {
   "cell_type": "code",
   "execution_count": 2,
   "id": "12a989d7-8b0a-43ba-a578-9d7bb4052abc",
   "metadata": {},
   "outputs": [
    {
     "name": "stdout",
     "output_type": "stream",
     "text": [
      "Contents copied from 'C:\\Users\\aksha\\Desktop\\Hello\\hai good evening.txt' to 'C:\\Users\\aksha\\Desktop\\Hello\\copy.txt'.\n"
     ]
    }
   ],
   "source": [
    "#2. Write a Python program to copy the contents of one file to another file.\n",
    "def copy_file(source, destination):\n",
    "    try:\n",
    "        with open(source, 'r', encoding='utf-8') as src, open(destination, 'w', encoding='utf-8') as dest:\n",
    "            dest.write(src.read())\n",
    "        print(f\"Contents copied from '{source}' to '{destination}'.\")\n",
    "    except FileNotFoundError:\n",
    "        print(f\"Error: The file '{source}' was not found.\")\n",
    "\n",
    "# Example usage\n",
    "source_path = r\"C:\\Users\\aksha\\Desktop\\Hello\\hai good evening.txt\"\n",
    "destination_path = r\"C:\\Users\\aksha\\Desktop\\Hello\\copy.txt\"\n",
    "copy_file(source_path, destination_path)\n"
   ]
  },
  {
   "cell_type": "code",
   "execution_count": 3,
   "id": "3d772e9b-95dc-4b9d-bf1b-34c402647f4e",
   "metadata": {},
   "outputs": [
    {
     "name": "stdout",
     "output_type": "stream",
     "text": [
      "Total number of words: 3\n"
     ]
    }
   ],
   "source": [
    "#3 Write a Python program to read the content of a file and count the total number of words in that file.\n",
    "def count_words(filename):\n",
    "    try:\n",
    "        with open(filename, 'r', encoding='utf-8') as file:\n",
    "            content = file.read()\n",
    "            words = content.split()\n",
    "            print(f\"Total number of words: {len(words)}\")\n",
    "    except FileNotFoundError:\n",
    "        print(f\"Error: The file '{filename}' was not found.\")\n",
    "\n",
    "# Example usage\n",
    "file_path = r\"C:\\Users\\aksha\\Desktop\\Hello\\hai good evening.txt\"\n",
    "count_words(file_path)\n",
    "\n"
   ]
  },
  {
   "cell_type": "code",
   "execution_count": 35,
   "id": "7e651e63-9158-4ba8-933f-0fb20dc72049",
   "metadata": {},
   "outputs": [
    {
     "name": "stdin",
     "output_type": "stream",
     "text": [
      "Enter a string to convert to an integer:  5\n"
     ]
    },
    {
     "name": "stdout",
     "output_type": "stream",
     "text": [
      "The converted integer is: 5\n"
     ]
    }
   ],
   "source": [
    "#4: Write a Python program that prompts the user to input a string and converts it to an integer. \n",
    "#Use try-except blocks to handle any exceptions that might occur.\n",
    "a = input(\"Enter a string to convert to an integer: \")\n",
    "try:\n",
    "    result = int(a)\n",
    "    print(\"The converted integer is:\", result)\n",
    "except ValueError:\n",
    "    print(\"Error: The input is not a valid integer.\")\n"
   ]
  },
  {
   "cell_type": "code",
   "execution_count": 34,
   "id": "e4ee700f-6c18-4822-98da-5d32a67bd749",
   "metadata": {},
   "outputs": [
    {
     "name": "stdin",
     "output_type": "stream",
     "text": [
      "Enter a list of integers separated by spaces:  3 -4 5\n"
     ]
    },
    {
     "name": "stdout",
     "output_type": "stream",
     "text": [
      "Error Negative integer found\n"
     ]
    }
   ],
   "source": [
    "#5 Write a Python program that prompts the user to input a list of integers and raises an exception if any of the integers in the list are negative.\n",
    "b = input(\"Enter a list of integers separated by spaces: \")\n",
    "try:\n",
    "    integer_list = [int(x) for x in b.split()]\n",
    "    for number in integer_list:\n",
    "        if number < 0:\n",
    "            raise ValueError(\"Negative integer found\")   \n",
    "    print(\"All integers are non-negative.\")  \n",
    "except ValueError as e:\n",
    "    print(\"Error\",e)"
   ]
  },
  {
   "cell_type": "code",
   "execution_count": 30,
   "id": "68dba58b-b5e0-4140-b564-44bcfc8e20e2",
   "metadata": {},
   "outputs": [
    {
     "name": "stdin",
     "output_type": "stream",
     "text": [
      "Enter a list of integers separated by spaces:  5 6 7\n"
     ]
    },
    {
     "name": "stdout",
     "output_type": "stream",
     "text": [
      "Average is:  6.0\n",
      "Program has finished running.\n"
     ]
    }
   ],
   "source": [
    "#6 Write a Python program that prompts the user to input a list of integers and computes the average of those integers. \n",
    "#Use try-except blocks to handle any exceptions that might occur.use the finally clause to print a message indicating that the program has finished running.\n",
    "try:\n",
    "    c = input(\"Enter a list of integers separated by spaces: \")\n",
    "    integer_list = [int(x) for x in c.split()]\n",
    "    total = sum(integer_list)\n",
    "    count = len(integer_list)    \n",
    "    if count == 0:\n",
    "        raise ZeroDivisionError(\"Cannot compute an average.\")    \n",
    "    average = total / count\n",
    "    print(\"Average is: \",average)\n",
    "except ValueError:\n",
    "    print(\"Error: Enter only integers separated by spaces\")\n",
    "except ZeroDivisionError as e:\n",
    "    print(\"Error\",e)\n",
    "finally:\n",
    "    print(\"Program has finished running.\")\n",
    "    "
   ]
  },
  {
   "cell_type": "code",
   "execution_count": 29,
   "id": "67552193-3212-4c9d-b457-09ddd2e6efcd",
   "metadata": {},
   "outputs": [
    {
     "name": "stdin",
     "output_type": "stream",
     "text": [
      "Enter the filename:  sample\n"
     ]
    },
    {
     "name": "stdout",
     "output_type": "stream",
     "text": [
      "File written successfully! Welcome!\n"
     ]
    }
   ],
   "source": [
    "#7 Write a Python program that prompts the user to input a filename and writes a string to that file.\n",
    "#Use try-except blocks to handle any exceptions that might occur and print a welcome message if there is no exception occurred.\n",
    "try:\n",
    "    filename = input(\"Enter the filename: \")\n",
    "    file = open(filename, \"w\")\n",
    "    file.write(\"This is a sample text.\\n\")\n",
    "    file.close()\n",
    "    print(\"File written successfully! Welcome!\")\n",
    "except Exception as e:\n",
    "    print(\"Error\",e)"
   ]
  }
 ],
 "metadata": {
  "kernelspec": {
   "display_name": "Python 3 (ipykernel)",
   "language": "python",
   "name": "python3"
  },
  "language_info": {
   "codemirror_mode": {
    "name": "ipython",
    "version": 3
   },
   "file_extension": ".py",
   "mimetype": "text/x-python",
   "name": "python",
   "nbconvert_exporter": "python",
   "pygments_lexer": "ipython3",
   "version": "3.12.7"
  }
 },
 "nbformat": 4,
 "nbformat_minor": 5
}
